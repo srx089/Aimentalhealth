{
 "cells": [
  {
   "cell_type": "code",
   "execution_count": 1,
   "metadata": {},
   "outputs": [
    {
     "name": "stdout",
     "output_type": "stream",
     "text": [
      "Requirement already satisfied: transformers in c:\\users\\sarvesh\\appdata\\local\\programs\\python\\python38\\lib\\site-packages (4.26.1)\n",
      "Requirement already satisfied: filelock in c:\\users\\sarvesh\\appdata\\local\\programs\\python\\python38\\lib\\site-packages (from transformers) (3.9.0)\n",
      "Requirement already satisfied: huggingface-hub<1.0,>=0.11.0 in c:\\users\\sarvesh\\appdata\\local\\programs\\python\\python38\\lib\\site-packages (from transformers) (0.14.1)\n",
      "Requirement already satisfied: numpy>=1.17 in c:\\users\\sarvesh\\appdata\\local\\programs\\python\\python38\\lib\\site-packages (from transformers) (1.24.1)\n",
      "Requirement already satisfied: packaging>=20.0 in c:\\users\\sarvesh\\appdata\\local\\programs\\python\\python38\\lib\\site-packages (from transformers) (23.0)\n",
      "Requirement already satisfied: pyyaml>=5.1 in c:\\users\\sarvesh\\appdata\\local\\programs\\python\\python38\\lib\\site-packages (from transformers) (6.0)\n",
      "Requirement already satisfied: regex!=2019.12.17 in c:\\users\\sarvesh\\appdata\\local\\programs\\python\\python38\\lib\\site-packages (from transformers) (2022.10.31)\n",
      "Requirement already satisfied: requests in c:\\users\\sarvesh\\appdata\\local\\programs\\python\\python38\\lib\\site-packages (from transformers) (2.28.2)\n",
      "Requirement already satisfied: tokenizers!=0.11.3,<0.14,>=0.11.1 in c:\\users\\sarvesh\\appdata\\local\\programs\\python\\python38\\lib\\site-packages (from transformers) (0.13.2)\n",
      "Requirement already satisfied: tqdm>=4.27 in c:\\users\\sarvesh\\appdata\\local\\programs\\python\\python38\\lib\\site-packages (from transformers) (4.64.1)\n",
      "Requirement already satisfied: fsspec in c:\\users\\sarvesh\\appdata\\local\\programs\\python\\python38\\lib\\site-packages (from huggingface-hub<1.0,>=0.11.0->transformers) (2023.4.0)\n",
      "Requirement already satisfied: typing-extensions>=3.7.4.3 in c:\\users\\sarvesh\\appdata\\local\\programs\\python\\python38\\lib\\site-packages (from huggingface-hub<1.0,>=0.11.0->transformers) (4.4.0)\n",
      "Requirement already satisfied: colorama in c:\\users\\sarvesh\\appdata\\local\\programs\\python\\python38\\lib\\site-packages (from tqdm>=4.27->transformers) (0.4.6)\n",
      "Requirement already satisfied: charset-normalizer<4,>=2 in c:\\users\\sarvesh\\appdata\\local\\programs\\python\\python38\\lib\\site-packages (from requests->transformers) (3.0.1)\n",
      "Requirement already satisfied: idna<4,>=2.5 in c:\\users\\sarvesh\\appdata\\local\\programs\\python\\python38\\lib\\site-packages (from requests->transformers) (3.4)\n",
      "Requirement already satisfied: urllib3<1.27,>=1.21.1 in c:\\users\\sarvesh\\appdata\\local\\programs\\python\\python38\\lib\\site-packages (from requests->transformers) (1.26.14)\n",
      "Requirement already satisfied: certifi>=2017.4.17 in c:\\users\\sarvesh\\appdata\\local\\programs\\python\\python38\\lib\\site-packages (from requests->transformers) (2022.12.7)\n",
      "Note: you may need to restart the kernel to use updated packages.\n"
     ]
    },
    {
     "name": "stderr",
     "output_type": "stream",
     "text": [
      "\n",
      "[notice] A new release of pip is available: 23.1.2 -> 23.2.1\n",
      "[notice] To update, run: python.exe -m pip install --upgrade pip\n"
     ]
    },
    {
     "name": "stdout",
     "output_type": "stream",
     "text": [
      "Requirement already satisfied: transformers[sentencepiece] in c:\\users\\sarvesh\\appdata\\local\\programs\\python\\python38\\lib\\site-packages (4.26.1)\n",
      "Requirement already satisfied: filelock in c:\\users\\sarvesh\\appdata\\local\\programs\\python\\python38\\lib\\site-packages (from transformers[sentencepiece]) (3.9.0)\n",
      "Requirement already satisfied: huggingface-hub<1.0,>=0.11.0 in c:\\users\\sarvesh\\appdata\\local\\programs\\python\\python38\\lib\\site-packages (from transformers[sentencepiece]) (0.14.1)\n",
      "Requirement already satisfied: numpy>=1.17 in c:\\users\\sarvesh\\appdata\\local\\programs\\python\\python38\\lib\\site-packages (from transformers[sentencepiece]) (1.24.1)\n",
      "Requirement already satisfied: packaging>=20.0 in c:\\users\\sarvesh\\appdata\\local\\programs\\python\\python38\\lib\\site-packages (from transformers[sentencepiece]) (23.0)\n",
      "Requirement already satisfied: pyyaml>=5.1 in c:\\users\\sarvesh\\appdata\\local\\programs\\python\\python38\\lib\\site-packages (from transformers[sentencepiece]) (6.0)\n",
      "Requirement already satisfied: regex!=2019.12.17 in c:\\users\\sarvesh\\appdata\\local\\programs\\python\\python38\\lib\\site-packages (from transformers[sentencepiece]) (2022.10.31)\n",
      "Requirement already satisfied: requests in c:\\users\\sarvesh\\appdata\\local\\programs\\python\\python38\\lib\\site-packages (from transformers[sentencepiece]) (2.28.2)\n",
      "Requirement already satisfied: tokenizers!=0.11.3,<0.14,>=0.11.1 in c:\\users\\sarvesh\\appdata\\local\\programs\\python\\python38\\lib\\site-packages (from transformers[sentencepiece]) (0.13.2)\n",
      "Requirement already satisfied: tqdm>=4.27 in c:\\users\\sarvesh\\appdata\\local\\programs\\python\\python38\\lib\\site-packages (from transformers[sentencepiece]) (4.64.1)\n",
      "Requirement already satisfied: sentencepiece!=0.1.92,>=0.1.91 in c:\\users\\sarvesh\\appdata\\local\\programs\\python\\python38\\lib\\site-packages (from transformers[sentencepiece]) (0.1.99)\n",
      "Requirement already satisfied: protobuf<=3.20.2 in c:\\users\\sarvesh\\appdata\\local\\programs\\python\\python38\\lib\\site-packages (from transformers[sentencepiece]) (3.19.6)\n",
      "Requirement already satisfied: fsspec in c:\\users\\sarvesh\\appdata\\local\\programs\\python\\python38\\lib\\site-packages (from huggingface-hub<1.0,>=0.11.0->transformers[sentencepiece]) (2023.4.0)\n",
      "Requirement already satisfied: typing-extensions>=3.7.4.3 in c:\\users\\sarvesh\\appdata\\local\\programs\\python\\python38\\lib\\site-packages (from huggingface-hub<1.0,>=0.11.0->transformers[sentencepiece]) (4.4.0)\n",
      "Requirement already satisfied: colorama in c:\\users\\sarvesh\\appdata\\local\\programs\\python\\python38\\lib\\site-packages (from tqdm>=4.27->transformers[sentencepiece]) (0.4.6)\n",
      "Requirement already satisfied: charset-normalizer<4,>=2 in c:\\users\\sarvesh\\appdata\\local\\programs\\python\\python38\\lib\\site-packages (from requests->transformers[sentencepiece]) (3.0.1)\n",
      "Requirement already satisfied: idna<4,>=2.5 in c:\\users\\sarvesh\\appdata\\local\\programs\\python\\python38\\lib\\site-packages (from requests->transformers[sentencepiece]) (3.4)\n",
      "Requirement already satisfied: urllib3<1.27,>=1.21.1 in c:\\users\\sarvesh\\appdata\\local\\programs\\python\\python38\\lib\\site-packages (from requests->transformers[sentencepiece]) (1.26.14)\n",
      "Requirement already satisfied: certifi>=2017.4.17 in c:\\users\\sarvesh\\appdata\\local\\programs\\python\\python38\\lib\\site-packages (from requests->transformers[sentencepiece]) (2022.12.7)\n",
      "Note: you may need to restart the kernel to use updated packages.\n"
     ]
    },
    {
     "name": "stderr",
     "output_type": "stream",
     "text": [
      "\n",
      "[notice] A new release of pip is available: 23.1.2 -> 23.2.1\n",
      "[notice] To update, run: python.exe -m pip install --upgrade pip\n"
     ]
    },
    {
     "name": "stdout",
     "output_type": "stream",
     "text": [
      "Requirement already satisfied: transformers in c:\\users\\sarvesh\\appdata\\local\\programs\\python\\python38\\lib\\site-packages (4.26.1)\n",
      "Requirement already satisfied: huggingface-hub in c:\\users\\sarvesh\\appdata\\local\\programs\\python\\python38\\lib\\site-packages (0.14.1)\n",
      "Requirement already satisfied: filelock in c:\\users\\sarvesh\\appdata\\local\\programs\\python\\python38\\lib\\site-packages (from transformers) (3.9.0)\n",
      "Requirement already satisfied: numpy>=1.17 in c:\\users\\sarvesh\\appdata\\local\\programs\\python\\python38\\lib\\site-packages (from transformers) (1.24.1)\n",
      "Requirement already satisfied: packaging>=20.0 in c:\\users\\sarvesh\\appdata\\local\\programs\\python\\python38\\lib\\site-packages (from transformers) (23.0)\n",
      "Requirement already satisfied: pyyaml>=5.1 in c:\\users\\sarvesh\\appdata\\local\\programs\\python\\python38\\lib\\site-packages (from transformers) (6.0)\n",
      "Requirement already satisfied: regex!=2019.12.17 in c:\\users\\sarvesh\\appdata\\local\\programs\\python\\python38\\lib\\site-packages (from transformers) (2022.10.31)\n",
      "Requirement already satisfied: requests in c:\\users\\sarvesh\\appdata\\local\\programs\\python\\python38\\lib\\site-packages (from transformers) (2.28.2)\n",
      "Requirement already satisfied: tokenizers!=0.11.3,<0.14,>=0.11.1 in c:\\users\\sarvesh\\appdata\\local\\programs\\python\\python38\\lib\\site-packages (from transformers) (0.13.2)\n",
      "Requirement already satisfied: tqdm>=4.27 in c:\\users\\sarvesh\\appdata\\local\\programs\\python\\python38\\lib\\site-packages (from transformers) (4.64.1)\n",
      "Requirement already satisfied: fsspec in c:\\users\\sarvesh\\appdata\\local\\programs\\python\\python38\\lib\\site-packages (from huggingface-hub) (2023.4.0)\n",
      "Requirement already satisfied: typing-extensions>=3.7.4.3 in c:\\users\\sarvesh\\appdata\\local\\programs\\python\\python38\\lib\\site-packages (from huggingface-hub) (4.4.0)\n",
      "Requirement already satisfied: colorama in c:\\users\\sarvesh\\appdata\\local\\programs\\python\\python38\\lib\\site-packages (from tqdm>=4.27->transformers) (0.4.6)\n",
      "Requirement already satisfied: charset-normalizer<4,>=2 in c:\\users\\sarvesh\\appdata\\local\\programs\\python\\python38\\lib\\site-packages (from requests->transformers) (3.0.1)\n",
      "Requirement already satisfied: idna<4,>=2.5 in c:\\users\\sarvesh\\appdata\\local\\programs\\python\\python38\\lib\\site-packages (from requests->transformers) (3.4)\n",
      "Requirement already satisfied: urllib3<1.27,>=1.21.1 in c:\\users\\sarvesh\\appdata\\local\\programs\\python\\python38\\lib\\site-packages (from requests->transformers) (1.26.14)\n",
      "Requirement already satisfied: certifi>=2017.4.17 in c:\\users\\sarvesh\\appdata\\local\\programs\\python\\python38\\lib\\site-packages (from requests->transformers) (2022.12.7)\n",
      "Note: you may need to restart the kernel to use updated packages.\n"
     ]
    },
    {
     "name": "stderr",
     "output_type": "stream",
     "text": [
      "\n",
      "[notice] A new release of pip is available: 23.1.2 -> 23.2.1\n",
      "[notice] To update, run: python.exe -m pip install --upgrade pip\n"
     ]
    },
    {
     "name": "stdout",
     "output_type": "stream",
     "text": [
      "Requirement already satisfied: emoji==0.6.0 in c:\\users\\sarvesh\\appdata\\local\\programs\\python\\python38\\lib\\site-packages (0.6.0)\n",
      "Note: you may need to restart the kernel to use updated packages.\n"
     ]
    },
    {
     "name": "stderr",
     "output_type": "stream",
     "text": [
      "\n",
      "[notice] A new release of pip is available: 23.1.2 -> 23.2.1\n",
      "[notice] To update, run: python.exe -m pip install --upgrade pip\n",
      "c:\\Users\\Sarvesh\\AppData\\Local\\Programs\\Python\\Python38\\lib\\site-packages\\tqdm\\auto.py:22: TqdmWarning: IProgress not found. Please update jupyter and ipywidgets. See https://ipywidgets.readthedocs.io/en/stable/user_install.html\n",
      "  from .autonotebook import tqdm as notebook_tqdm\n"
     ]
    }
   ],
   "source": [
    "%pip install transformers\n",
    "%pip install transformers[sentencepiece]\n",
    "%pip install transformers huggingface-hub\n",
    "%pip install emoji==0.6.0\n",
    "\n",
    "import transformers\n",
    "from transformers import pipeline\n",
    "\n",
    "from gensim.models import KeyedVectors\n",
    "\n",
    "# Load Google's Word2Vec pre-trained model (you need to download the pre-trained model file)\n",
    "word2vec_model_path = \"C:\\\\Users\\Sarvesh\\Desktop\\AImental\\GoogleNews-vectors-negative300.bin\"\n",
    "word2vec_model = KeyedVectors.load_word2vec_format(word2vec_model_path, binary=True)"
   ]
  },
  {
   "cell_type": "code",
   "execution_count": 2,
   "metadata": {},
   "outputs": [],
   "source": [
    "sentiment_pipeline = pipeline(\"sentiment-analysis\", model=\"finiteautomata/bertweet-base-sentiment-analysis\")\n",
    "unmask_pipeline1 = pipeline(\"fill-mask\", model=\"nlp4good/psych-search\")  \n",
    "unmask_pipeline2 = pipeline(\"fill-mask\", model=\"mental/mental-bert-base-uncased\", use_auth_token=True)\n",
    "classify_pipeline1 = pipeline(\"text-classification\",model=\"rabiaqayyum/autotrain-mental-health-analysis-752423172\") \n",
    "classify_pipeline2 = pipeline(\"text-classification\",model=\"edmundhui/mental_health_trainer\") "
   ]
  },
  {
   "cell_type": "code",
   "execution_count": 3,
   "metadata": {},
   "outputs": [
    {
     "data": {
      "text/plain": [
       "[{'label': 'POS', 'score': 0.9919925928115845},\n",
       " {'label': 'NEG', 'score': 0.9553877115249634},\n",
       " {'label': 'NEG', 'score': 0.9217413663864136},\n",
       " {'label': 'POS', 'score': 0.9036779999732971},\n",
       " {'label': 'POS', 'score': 0.6636937260627747}]"
      ]
     },
     "execution_count": 3,
     "metadata": {},
     "output_type": "execute_result"
    }
   ],
   "source": [
    "data = [\"Life is fantastic\",\n",
    "        \"I feel useless\", \n",
    "        \"Life is gloomy\",\n",
    "        \"Life is either a daring adventure or nothing at all.\",\n",
    "        \"You cannot protect yourself from sadness without protecting yourself from happiness.\"]\n",
    "sentiment_pipeline(data)"
   ]
  },
  {
   "cell_type": "code",
   "execution_count": 4,
   "metadata": {},
   "outputs": [
    {
     "data": {
      "text/plain": [
       "[{'score': 0.11318018287420273,\n",
       "  'token': 13461,\n",
       "  'token_str': 'suicide',\n",
       "  'sequence': 'the individual has feelings of sadness, irritability or frustration, slowed thinking, speaking or body movements, loss of interest or pleasure in most or all normal activities, such as sex, hobbies or sports, frequent or recurrent thoughts of death, suicidal thoughts, suicide attempts or suicide. the individual can be diagnosed as suicide.'},\n",
       " {'score': 0.0956013947725296,\n",
       "  'token': 9814,\n",
       "  'token_str': 'schizophrenia',\n",
       "  'sequence': 'the individual has feelings of sadness, irritability or frustration, slowed thinking, speaking or body movements, loss of interest or pleasure in most or all normal activities, such as sex, hobbies or sports, frequent or recurrent thoughts of death, suicidal thoughts, suicide attempts or suicide. the individual can be diagnosed as schizophrenia.'},\n",
       " {'score': 0.06309213489294052,\n",
       "  'token': 4754,\n",
       "  'token_str': 'depression',\n",
       "  'sequence': 'the individual has feelings of sadness, irritability or frustration, slowed thinking, speaking or body movements, loss of interest or pleasure in most or all normal activities, such as sex, hobbies or sports, frequent or recurrent thoughts of death, suicidal thoughts, suicide attempts or suicide. the individual can be diagnosed as depression.'},\n",
       " {'score': 0.04755060747265816,\n",
       "  'token': 23973,\n",
       "  'token_str': 'suicidal',\n",
       "  'sequence': 'the individual has feelings of sadness, irritability or frustration, slowed thinking, speaking or body movements, loss of interest or pleasure in most or all normal activities, such as sex, hobbies or sports, frequent or recurrent thoughts of death, suicidal thoughts, suicide attempts or suicide. the individual can be diagnosed as suicidal.'},\n",
       " {'score': 0.044516224414110184,\n",
       "  'token': 15284,\n",
       "  'token_str': 'depressed',\n",
       "  'sequence': 'the individual has feelings of sadness, irritability or frustration, slowed thinking, speaking or body movements, loss of interest or pleasure in most or all normal activities, such as sex, hobbies or sports, frequent or recurrent thoughts of death, suicidal thoughts, suicide attempts or suicide. the individual can be diagnosed as depressed.'}]"
      ]
     },
     "execution_count": 4,
     "metadata": {},
     "output_type": "execute_result"
    }
   ],
   "source": [
    "#nlp4good/psych-search\n",
    "unmask_pipeline1(\"the individual has feelings of sadness, irritability or frustration, Slowed thinking, speaking or body movements, Loss of interest or pleasure in most or all normal activities, such as sex, hobbies or sports,Frequent or recurrent thoughts of death, suicidal thoughts, suicide attempts or suicide. the individual can be diagnosed as [MASK].\")"
   ]
  },
  {
   "cell_type": "code",
   "execution_count": 5,
   "metadata": {},
   "outputs": [
    {
     "data": {
      "text/plain": [
       "[{'score': 0.5571010708808899,\n",
       "  'token': 29398,\n",
       "  'token_str': 'bipolar',\n",
       "  'sequence': 'the individual has feelings of sadness, irritability or frustration, slowed thinking, speaking or body movements, loss of interest or pleasure in most or all normal activities, such as sex, hobbies or sports, frequent or recurrent thoughts of death, suicidal thoughts, suicide attempts or suicide. the individual can be diagnosed as bipolar.'},\n",
       " {'score': 0.11477894335985184,\n",
       "  'token': 26094,\n",
       "  'token_str': 'suicidal',\n",
       "  'sequence': 'the individual has feelings of sadness, irritability or frustration, slowed thinking, speaking or body movements, loss of interest or pleasure in most or all normal activities, such as sex, hobbies or sports, frequent or recurrent thoughts of death, suicidal thoughts, suicide attempts or suicide. the individual can be diagnosed as suicidal.'},\n",
       " {'score': 0.10797528177499771,\n",
       "  'token': 14777,\n",
       "  'token_str': 'depressed',\n",
       "  'sequence': 'the individual has feelings of sadness, irritability or frustration, slowed thinking, speaking or body movements, loss of interest or pleasure in most or all normal activities, such as sex, hobbies or sports, frequent or recurrent thoughts of death, suicidal thoughts, suicide attempts or suicide. the individual can be diagnosed as depressed.'},\n",
       " {'score': 0.04621938243508339,\n",
       "  'token': 2107,\n",
       "  'token_str': 'such',\n",
       "  'sequence': 'the individual has feelings of sadness, irritability or frustration, slowed thinking, speaking or body movements, loss of interest or pleasure in most or all normal activities, such as sex, hobbies or sports, frequent or recurrent thoughts of death, suicidal thoughts, suicide attempts or suicide. the individual can be diagnosed as such.'},\n",
       " {'score': 0.017291076481342316,\n",
       "  'token': 6245,\n",
       "  'token_str': 'depression',\n",
       "  'sequence': 'the individual has feelings of sadness, irritability or frustration, slowed thinking, speaking or body movements, loss of interest or pleasure in most or all normal activities, such as sex, hobbies or sports, frequent or recurrent thoughts of death, suicidal thoughts, suicide attempts or suicide. the individual can be diagnosed as depression.'}]"
      ]
     },
     "execution_count": 5,
     "metadata": {},
     "output_type": "execute_result"
    }
   ],
   "source": [
    "#mental/mental-bert-base-uncased\n",
    "unmask_pipeline2(\"the individual has feelings of sadness, irritability or frustration, Slowed thinking, speaking or body movements, Loss of interest or pleasure in most or all normal activities, such as sex, hobbies or sports,Frequent or recurrent thoughts of death, suicidal thoughts, suicide attempts or suicide. the individual can be diagnosed as [MASK].\")"
   ]
  },
  {
   "cell_type": "code",
   "execution_count": 6,
   "metadata": {},
   "outputs": [
    {
     "data": {
      "text/plain": [
       "[{'label': 'depression', 'score': 0.6740894913673401},\n",
       " {'label': 'mentalhealth', 'score': 0.26671335101127625},\n",
       " {'label': 'bipolar', 'score': 0.037624429911375046},\n",
       " {'label': 'BPD', 'score': 0.010575746186077595},\n",
       " {'label': 'schizophrenia', 'score': 0.006193563807755709}]"
      ]
     },
     "execution_count": 6,
     "metadata": {},
     "output_type": "execute_result"
    }
   ],
   "source": [
    "#rabiaqayyum/autotrain-mental-health-analysis-752423172\n",
    "classify_pipeline1(\"the individual has feelings of sadness, irritability or frustration, Slowed thinking, speaking or body movements, Loss of interest or pleasure in most or all normal activities, such as sex, hobbies or sports,Frequent or recurrent thoughts of death, suicidal thoughts, suicide attempts or suicide.\", top_k=5)"
   ]
  },
  {
   "cell_type": "code",
   "execution_count": 7,
   "metadata": {},
   "outputs": [
    {
     "data": {
      "text/plain": [
       "[{'label': 'depression', 'score': 0.982108473777771},\n",
       " {'label': 'aspergers', 'score': 0.009853408671915531},\n",
       " {'label': 'ptsd', 'score': 0.004574208986014128},\n",
       " {'label': 'OCD', 'score': 0.0022012938279658556},\n",
       " {'label': 'ADHD', 'score': 0.0012626154348254204}]"
      ]
     },
     "execution_count": 7,
     "metadata": {},
     "output_type": "execute_result"
    }
   ],
   "source": [
    "#edmundhui/mental_health_trainer\n",
    "classify_pipeline2(\"the individual has feelings of sadness, irritability or frustration, Slowed thinking, speaking or body movements, Loss of interest or pleasure in most or all normal activities, such as sex, hobbies or sports,Frequent or recurrent thoughts of death, suicidal thoughts, suicide attempts or suicide.\", top_k=5)"
   ]
  },
  {
   "cell_type": "code",
   "execution_count": 8,
   "metadata": {},
   "outputs": [
    {
     "data": {
      "text/plain": [
       "[{'score': 0.4340355694293976,\n",
       "  'token': 3102,\n",
       "  'token_str': 'kill',\n",
       "  'sequence': 'you should kill yourself.'},\n",
       " {'score': 0.03151792660355568,\n",
       "  'token': 2393,\n",
       "  'token_str': 'help',\n",
       "  'sequence': 'you should help yourself.'}]"
      ]
     },
     "execution_count": 8,
     "metadata": {},
     "output_type": "execute_result"
    }
   ],
   "source": [
    "#mental/mental-bert-base-uncased\n",
    "unmask_pipeline2(\"you should [MASK] yourself.\", top_k=2)"
   ]
  },
  {
   "cell_type": "code",
   "execution_count": 9,
   "metadata": {},
   "outputs": [
    {
     "data": {
      "text/plain": [
       "[{'score': 0.0847039744257927,\n",
       "  'token': 10026,\n",
       "  'token_str': 'tell',\n",
       "  'sequence': 'you should tell yourself.'},\n",
       " {'score': 0.059238795191049576,\n",
       "  'token': 2279,\n",
       "  'token_str': 'help',\n",
       "  'sequence': 'you should help yourself.'}]"
      ]
     },
     "execution_count": 9,
     "metadata": {},
     "output_type": "execute_result"
    }
   ],
   "source": [
    "unmask_pipeline1(\"you should [MASK] yourself.\", top_k=2)"
   ]
  },
  {
   "cell_type": "code",
   "execution_count": 10,
   "metadata": {},
   "outputs": [
    {
     "name": "stdout",
     "output_type": "stream",
     "text": [
      "Data source\n"
     ]
    },
    {
     "data": {
      "text/html": [
       "<div>\n",
       "<style scoped>\n",
       "    .dataframe tbody tr th:only-of-type {\n",
       "        vertical-align: middle;\n",
       "    }\n",
       "\n",
       "    .dataframe tbody tr th {\n",
       "        vertical-align: top;\n",
       "    }\n",
       "\n",
       "    .dataframe thead th {\n",
       "        text-align: right;\n",
       "    }\n",
       "</style>\n",
       "<table border=\"1\" class=\"dataframe\">\n",
       "  <thead>\n",
       "    <tr style=\"text-align: right;\">\n",
       "      <th></th>\n",
       "      <th>Model Name</th>\n",
       "      <th>Data Source</th>\n",
       "    </tr>\n",
       "  </thead>\n",
       "  <tbody>\n",
       "    <tr>\n",
       "      <th>0</th>\n",
       "      <td>nlp4good/psych-search</td>\n",
       "      <td>Abstract text from Pyschology and Psychiatry P...</td>\n",
       "    </tr>\n",
       "    <tr>\n",
       "      <th>1</th>\n",
       "      <td>mental/mental-bert-base-uncased</td>\n",
       "      <td>Mental health-related posts collected from Reddit</td>\n",
       "    </tr>\n",
       "  </tbody>\n",
       "</table>\n",
       "</div>"
      ],
      "text/plain": [
       "                        Model Name  \\\n",
       "0            nlp4good/psych-search   \n",
       "1  mental/mental-bert-base-uncased   \n",
       "\n",
       "                                         Data Source  \n",
       "0  Abstract text from Pyschology and Psychiatry P...  \n",
       "1  Mental health-related posts collected from Reddit  "
      ]
     },
     "execution_count": 10,
     "metadata": {},
     "output_type": "execute_result"
    }
   ],
   "source": [
    "import pandas as pd\n",
    "print(\"Data source\")\n",
    "data = {'Model Name': ['nlp4good/psych-search', 'mental/mental-bert-base-uncased'],\n",
    "        'Data Source': ['Abstract text from Pyschology and Psychiatry PubMed research', 'Mental health-related posts collected from Reddit']}\n",
    "\n",
    "pd.DataFrame(data)"
   ]
  },
  {
   "cell_type": "code",
   "execution_count": 18,
   "metadata": {},
   "outputs": [],
   "source": [
    "import random\n",
    "\n",
    "\n",
    "def greeting():\n",
    "    print(\"Chatbot: Hello! I'm your mental health chatbot. How can I help you today?\")\n",
    "\n",
    "def analyze_sentiment(text):\n",
    "    result = sentiment_pipeline(text)\n",
    "    sentiment = result[0]['label']\n",
    "    print(f\"Chatbot: The sentiment of the input text is {sentiment}.\")\n",
    "\n",
    "def classify_text(text):\n",
    "    result1 = classify_pipeline1(text)\n",
    "    result2 = classify_pipeline2(text)\n",
    "    cl1 = result1[0]['label']\n",
    "    cl2 = result2[0]['label']\n",
    "    print(\"Chatbot: According to my Classification results\")\n",
    "    print(f\"Chatbot:You are most likely be dealing with {cl1} and also be cautious of {cl2}\")\n",
    "    \n",
    "def motivation():\n",
    "    motivational_messages = [\n",
    "    \"Remember, tough times don't last forever. You are strong, resilient, and capable of overcoming any challenge that comes your way. Keep moving forward and believe in yourself. You've got this!\",\n",
    "    \"Believe in yourself and your abilities. You have the power to create a positive change in your life. Keep pushing forward with determination and hope.\",\n",
    "    \"Every day is a new opportunity for growth and progress. Embrace the challenges as stepping stones to success. You are capable of achieving great things.\",\n",
    "    \"In the face of adversity, remember that you are not alone. Reach out for support, and together, we can overcome any obstacle. Stay strong and keep going!\",\n",
    "    \"Challenges are opportunities in disguise. Embrace them, learn from them, and grow stronger with each step you take. You are destined for greatness!\",\n",
    "    \"Your strength and resilience are unmatched. Trust in yourself, and know that you have the power to transform your life. Keep moving forward with courage and determination.\",\n",
    "    ]\n",
    "    \n",
    "    return random.choice(motivational_messages)\n",
    "\n",
    "def chatbot():\n",
    "    greeting()\n",
    "    \n",
    "    while True:\n",
    "        user_input = input(\"You: \").strip().lower()\n",
    "\n",
    "        if \"exit\" in user_input:\n",
    "            print(f\"Chatbot: {motivation()}\")\n",
    "            print(\"Chatbot: Goodbye! Take care.\")\n",
    "            break\n",
    "        else:\n",
    "            analyze_sentiment(user_input)\n",
    "            classify_text(user_input)\n",
    "\n"
   ]
  },
  {
   "cell_type": "code",
   "execution_count": 19,
   "metadata": {},
   "outputs": [
    {
     "name": "stdout",
     "output_type": "stream",
     "text": [
      "Chatbot: Hello! I'm your mental health chatbot. How can I help you today?\n",
      "Chatbot: The sentiment of the input text is NEG.\n",
      "Chatbot: According to my Classification results\n",
      "Chatbot:You are most likely be dealing with depression and also be cautious of depression\n",
      "Chatbot: In the face of adversity, remember that you are not alone. Reach out for support, and together, we can overcome any obstacle. Stay strong and keep going!\n",
      "Chatbot: Goodbye! Take care.\n"
     ]
    }
   ],
   "source": [
    "chatbot()"
   ]
  },
  {
   "cell_type": "code",
   "execution_count": null,
   "metadata": {},
   "outputs": [],
   "source": []
  }
 ],
 "metadata": {
  "kernelspec": {
   "display_name": "Python 3",
   "language": "python",
   "name": "python3"
  },
  "language_info": {
   "codemirror_mode": {
    "name": "ipython",
    "version": 3
   },
   "file_extension": ".py",
   "mimetype": "text/x-python",
   "name": "python",
   "nbconvert_exporter": "python",
   "pygments_lexer": "ipython3",
   "version": "3.8.0"
  },
  "orig_nbformat": 4
 },
 "nbformat": 4,
 "nbformat_minor": 2
}
